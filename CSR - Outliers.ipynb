{
    "nbformat": 4, 
    "nbformat_minor": 1, 
    "cells": [
        {
            "source": "CSUEB - CSR Project - Fall 2017 - Gui Larange\nOutliers in Scala. Import Breeze Statistics Library ", 
            "cell_type": "markdown", 
            "metadata": {}
        }, 
        {
            "execution_count": 12, 
            "metadata": {
                "collapsed": true
            }, 
            "outputs": [], 
            "cell_type": "code", 
            "source": "import scala.math\nimport breeze.stats._\nimport breeze.linalg._\nimport scala.annotation.tailrec\nimport scala.collection.parallel.ParSeq"
        }, 
        {
            "execution_count": 4, 
            "metadata": {
                "collapsed": true
            }, 
            "outputs": [], 
            "cell_type": "code", 
            "source": "val  gau = Gaussian(0.0,1.0)\nval  y = gau.sample(10)"
        }, 
        {
            "source": "getOutliers takes a sequence seq and returns a filtered parallel sequence with the outliers. Q1 and Q2 are the lower and upper quartiles. IQR is the inter-quartile distance. ", 
            "cell_type": "markdown", 
            "metadata": {}
        }, 
        {
            "execution_count": 7, 
            "metadata": {
                "collapsed": true
            }, 
            "outputs": [], 
            "cell_type": "code", 
            "source": "def getOutliers(seq: Seq[Double]): ParSeq[Double] = {\n    val Q1 = DescriptiveStats.percentile(seq, 0.25)\n    val Q3 = DescriptiveStats.percentile(seq, 0.75)\n    val IQR = Q3 - Q1\n    val d = 1.5 * IQR\n    seq.par filter\n      (x => ((x > Q3) && ((x - Q3).abs > d)) || ((x<Q1) && (x-Q1).abs>d))\n}"
        }, 
        {
            "source": "nOutliers simply returns the outliers from a gaussian sample of length n.", 
            "cell_type": "markdown", 
            "metadata": {}
        }, 
        {
            "execution_count": 8, 
            "metadata": {
                "collapsed": true
            }, 
            "outputs": [], 
            "cell_type": "code", 
            "source": "def nOutliers(n: Int): Int = getOutliers(gau.sample(n)).length"
        }, 
        {
            "source": "genOutliers takes m the number of desired iterations and xi, length of desired and returns the average number of outliers for the m iterations", 
            "cell_type": "markdown", 
            "metadata": {}
        }, 
        {
            "execution_count": 14, 
            "metadata": {
                "collapsed": true
            }, 
            "outputs": [], 
            "cell_type": "code", 
            "source": "def genOutliers(m: Int, xi: Int): Double = \n    sum(Vector.fill(m) (nOutliers(xi)))/m.toDouble"
        }, 
        {
            "source": "Maps the genOutliers between mn and mx (m iterations for each value between mn and mx)", 
            "cell_type": "markdown", 
            "metadata": {}
        }, 
        {
            "execution_count": 15, 
            "metadata": {
                "collapsed": true
            }, 
            "outputs": [], 
            "cell_type": "code", 
            "source": "def mapOutliers(mn: Int, mx: Int, m: Int): Seq[Double] = {\n    val xi = (mn to mx).toList\n    xi map { xi => genOutliers(m, xi)}\n}"
        }, 
        {
            "source": "Times the functions", 
            "cell_type": "markdown", 
            "metadata": {}
        }, 
        {
            "execution_count": 17, 
            "metadata": {
                "collapsed": true
            }, 
            "outputs": [], 
            "cell_type": "code", 
            "source": "def time[A](f: => A) = {\n    val s = System.nanoTime\n    val ret = f\n    println(\"time: \" + (System.nanoTime - s)/1e6 + \"ms\") \n    ret\n}"
        }, 
        {
            "execution_count": 20, 
            "metadata": {}, 
            "outputs": [
                {
                    "text": "List(0.2, 0.243, 0.261, 0.301, 0.279, 0.291, 0.314, 0.334, 0.316, 0.279, 0.341, 0.341, 0.384, 0.381, 0.374, 0.383, 0.378, 0.372, 0.379, 0.4, 0.428, 0.408, 0.419, 0.46, 0.462, 0.457, 0.421, 0.46, 0.492, 0.494, 0.473, 0.506, 0.485, 0.495, 0.563, 0.552, 0.535, 0.545, 0.544, 0.578, 0.597, 0.59, 0.566, 0.585, 0.566, 0.627, 0.615, 0.593, 0.6, 0.641, 0.677, 0.631, 0.625, 0.636, 0.664, 0.677, 0.694, 0.734, 0.746, 0.724, 0.769, 0.737, 0.727, 0.687, 0.735, 0.712, 0.724, 0.809, 0.739, 0.799, 0.861, 0.796, 0.769, 0.743, 0.745, 0.815, 0.836, 0.84, 0.841, 0.836, 0.803)\ntime: 12879.233103ms\n", 
                    "name": "stdout", 
                    "output_type": "stream"
                }
            ], 
            "cell_type": "code", 
            "source": "time(println(mapOutliers(20,100,1000)))"
        }, 
        {
            "execution_count": null, 
            "metadata": {
                "collapsed": true
            }, 
            "outputs": [], 
            "cell_type": "code", 
            "source": ""
        }
    ], 
    "metadata": {
        "language_info": {
            "name": "scala", 
            "file_extension": ".scala", 
            "pygments_lexer": "scala", 
            "codemirror_mode": "text/x-scala", 
            "mimetype": "text/x-scala", 
            "version": "2.11.8"
        }, 
        "kernelspec": {
            "language": "scala", 
            "display_name": "Scala 2.11 with Spark 2.1", 
            "name": "scala-spark21"
        }
    }
}