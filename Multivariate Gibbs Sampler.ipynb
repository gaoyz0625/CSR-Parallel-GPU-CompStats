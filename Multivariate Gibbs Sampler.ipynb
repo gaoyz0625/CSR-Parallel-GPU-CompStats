{
    "nbformat": 4, 
    "cells": [
        {
            "source": "## California State University, East Bay - Center for Student Research - (CSUEB - CSR)  \n### Parallel Statistical Computing - Fall 2017\n### Mentors: Prof. Eric Suess and Bruce Trumbo\n### Student: Gui Larangeira\n", 
            "cell_type": "markdown", 
            "metadata": {
                "collapsed": true
            }
        }, 
        {
            "source": "As an example, our goal is to construct a Gibbs Sampler for the multivariate target distribution. (This is a trivial non-Bayesian example of a Gibbs Sampler just to show how it works.) Later, we will apply to more interesting Bayesian examples.\n\n$$ f(x,y) = kx^2\\exp\\{-xy^2-y^2+2y-4x\\}, \\hspace{1cm} x>0, y \\in \\mathbb{R}$$", 
            "cell_type": "markdown", 
            "metadata": {}
        }, 
        {
            "source": "where $k>0$ is a normalizing constant that ensures the distribution integrates to 1. To construct a Gibbs Sampler we have to be able to sample from both the full conditional distributions $x|y$ and $y|x$, so let's derive those first before attempting to implement it.", 
            "cell_type": "markdown", 
            "metadata": {}
        }, 
        {
            "source": "The full conditionals are obtained by dividing the joints by the marginals:\n$$ f(x|y) = \\frac{f(x,y)}{f(y)} \\hspace{1cm} f(y|x) = \\frac{f(x,y)}{f(x)}$$", 
            "cell_type": "markdown", 
            "metadata": {}
        }, 
        {
            "source": "So let's calculate the full conditionals by obtaining the marginals in each case:\n\n$$f(y)=\\int_{0}^{\\infty}kx^2\\exp\\left\\{-xy^2-y^2+2y-4x\\right\\}dx = $$\n$$ = k\\exp\\left\\{2y-y^2\\right\\}\\int_{0}^{\\infty}x^2\\exp\\left\\{-x(y^2+4)\\right\\}dx$$", 
            "cell_type": "markdown", 
            "metadata": {}
        }, 
        {
            "source": "We can consider $m=y^2+4$ a constant and effect the change of variable $u=mx$:", 
            "cell_type": "markdown", 
            "metadata": {}
        }, 
        {
            "source": "$$ f(y) = k\\exp\\left\\{2y-y^2\\right\\}\\int_{0}^{\\infty}\\frac{u}{m}^2\\exp\\{-u\\}\\frac{du}{m} = $$\n$$      = k\\exp\\left\\{2y-y^2\\right\\}\\frac{1}{m^3}\\int_{0}^{\\infty}u^2\\exp\\{-u\\}du = $$\n$$      = k\\exp\\left\\{2y-y^2\\right\\}\\left(\\frac{1}{y^2+4}\\right)^{3}\\Gamma(3)$$\n", 
            "cell_type": "markdown", 
            "metadata": {}
        }, 
        {
            "source": "So that \n$$ f(x|y) = \\frac{kx^2\\exp\\left\\{-xy^2-y^2+2y-4x\\right\\}}{2k\\exp\\left\\{2y-y^2\\right\\}\\left(\\frac{1}{y^2+4}\\right)^3}=$$\n$$ = \\frac{x^2}{2}\\left(y^2+4\\right)^3\\exp\\left\\{-xy^2-y^2+2y-4x-2y+y^2\\right\\}=$$\n$$ = x^2(y^2+4)^3\\exp\\left\\{-x(y^2+4)\\right\\}$$\n$$ = \\Gamma\\left(\\alpha=3,\\theta=\\frac{1}{y^2+4}\\right)$$", 
            "cell_type": "markdown", 
            "metadata": {}
        }, 
        {
            "source": "Similarly, we calculate the marginal $f(x)$ and the full conditional $f(y|x)$", 
            "cell_type": "markdown", 
            "metadata": {}
        }, 
        {
            "source": "$$f(x)=kx^2\\exp(-4x)\\int_{-\\infty}^{\\infty}\\exp\\left\\{-y^2(x+1)+2y\\right\\}dy$$", 
            "cell_type": "markdown", 
            "metadata": {}
        }, 
        {
            "source": "The integral is a well known result, fortunately: https://en.wikipedia.org/wiki/Gaussian_function#Integral_of_a_Gaussian_function", 
            "cell_type": "markdown", 
            "metadata": {}
        }, 
        {
            "source": "$$\\int_{-\\infty}^{\\infty}e^{-ax^2+bx+c}dy=\\sqrt{\\frac{\\pi}{a}}e^{\\frac{b^2}{4a}+c}$$", 
            "cell_type": "markdown", 
            "metadata": {}
        }, 
        {
            "source": "So our marginal now becomes\n$$ f(x) = kx^2\\exp\\left\\{-4x\\right\\}\\sqrt\\frac{\\pi}{x+1}\\exp\\left\\{\\frac{1}{x+1}\\right\\}$$", 
            "cell_type": "markdown", 
            "metadata": {}
        }, 
        {
            "source": "And the conditional is\n$$f(y|x)=\\frac{f(x,y)}{f(x)}=\\frac{kx^2\\exp\\left\\{-xy^2-y^2+2y-4x\\right\\}}{kx^2\\sqrt{\\frac{\\pi}{x+1}}\\exp\\left\\{-4x+\\frac{1}{x+1}\\right\\}}=$$\n$$=\\frac{1}{\\sqrt{\\pi\\frac{1}{x+1}}}\\exp\\left\\{-xy^2-y^2+2y-4x+4x-\\frac{1}{x+1}\\right\\}$$\n$$=\\frac{1}{\\sqrt{2\\pi\\frac{1}{2(x+1)}}}\\exp\\left\\{-y^2(x+1)+2y-\\frac{1}{x+1}\\right\\}$$\n$$=\\frac{1}{\\sqrt{2\\pi\\frac{1}{2(x+1)}}}\\exp\\left\\{-\\frac{\\left(y-\\frac{1}{x+1}\\right)^2}{2\\frac{1}{2(x+1)}}\\right\\}$$\n$$=\\mathcal{N}\\left(\\frac{1}{1+x},\\frac{1}{2(1+x)}\\right)$$", 
            "cell_type": "markdown", 
            "metadata": {}
        }, 
        {
            "source": "And now with the full conditionals in hand we are able to implement a Gibbs Sampling routine. We now follow the steps outlined in **Wilkinson, D. J. (2017).** *Statistical Computing with Scala: A functional approach to data science* https://github.com/darrenjw/scala-course\n", 
            "cell_type": "markdown", 
            "metadata": {}
        }, 
        {
            "outputs": [], 
            "execution_count": 8, 
            "cell_type": "code", 
            "source": "/* Define State of GS as case class*/\ncase class State(x: Double, y: Double)", 
            "metadata": {}
        }, 
        {
            "outputs": [], 
            "execution_count": 9, 
            "cell_type": "code", 
            "source": "import breeze.stats.distributions._", 
            "metadata": {}
        }, 
        {
            "outputs": [], 
            "execution_count": 14, 
            "cell_type": "code", 
            "source": "/*Function to iterate the GS Markov Chain*/\ndef nextState(state: State): State = {\n    val sy = state.y\n    val x = Gamma(3.0,1.0/(sy*sy+4)).draw\n    val y = Gaussian(1.0/(x+1),1.0/math.sqrt(2*(x+1))).draw\n    State(x,y)\n}", 
            "metadata": {}
        }, 
        {
            "source": "Once the iteration function is defined, a *Stream* data structure is defined to iterate. Notice the first 1000 iterations are dropped.", 
            "cell_type": "markdown", 
            "metadata": {}
        }, 
        {
            "outputs": [], 
            "execution_count": 18, 
            "cell_type": "code", 
            "source": "val gs = Stream.iterate(State(1.0,1.0))(nextState)\nval output = gs.drop(1000).take(100000).toArray\n", 
            "metadata": {}
        }, 
        {
            "outputs": [], 
            "execution_count": null, 
            "cell_type": "code", 
            "source": "", 
            "metadata": {}
        }
    ], 
    "metadata": {
        "language_info": {
            "version": "2.11.8", 
            "file_extension": ".scala", 
            "codemirror_mode": "text/x-scala", 
            "pygments_lexer": "scala", 
            "mimetype": "text/x-scala", 
            "name": "scala"
        }, 
        "kernelspec": {
            "language": "scala", 
            "display_name": "Scala 2.11 with Spark 2.1", 
            "name": "scala-spark21"
        }
    }, 
    "nbformat_minor": 1
}